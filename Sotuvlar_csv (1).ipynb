{
  "nbformat": 4,
  "nbformat_minor": 0,
  "metadata": {
    "colab": {
      "name": "Sotuvlar_csv.ipynb",
      "provenance": []
    },
    "kernelspec": {
      "name": "python3",
      "display_name": "Python 3"
    },
    "language_info": {
      "name": "python"
    }
  },
  "cells": [
    {
      "cell_type": "markdown",
      "source": [
        "#Funny image :\n",
        "![images (1).jpeg](data:image/jpeg;base64,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)"
      ],
      "metadata": {
        "id": "YS7KMd3kfV3L"
      }
    },
    {
      "cell_type": "markdown",
      "source": [
        "#*Required libraries* ⬇"
      ],
      "metadata": {
        "id": "3PteANm_DqSD"
      }
    },
    {
      "cell_type": "code",
      "execution_count": 157,
      "metadata": {
        "id": "jV3kP4_b6rI5"
      },
      "outputs": [],
      "source": [
        "import numpy as np\n",
        "import pandas as pd\n",
        "import matplotlib.pyplot as plt\n",
        "import seaborn as sns"
      ]
    },
    {
      "cell_type": "markdown",
      "source": [
        "#Beznesmenning Topshirig'i\n",
        "![images (2).jpeg](data:image/jpeg;base64,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)"
      ],
      "metadata": {
        "id": "3MZ4Ii2sSUvr"
      }
    },
    {
      "cell_type": "markdown",
      "source": [
        "17 ta ustun haqida ma'lumot:\n",
        "****\n",
        "Invoice id - Joriy sotuv idsi (kompyuter generatsiya qilgan raqam)\n",
        "****\n",
        "Branch - Fillial (A,B yoki C)\n",
        "****\n",
        "City - Joylashgan shahar\n",
        "****\n",
        "Customer type - Mijoz turui - Member(Maxsus klent - karta ochtirgan), Normal - Oddiy klent\n",
        "****\n",
        "Gender - Jinsi\n",
        "****\n",
        "Product line - Sotib olingan mahsulot qaysi \n",
        "bo'limga tegishli:  Electronic accessories, Fashion accessories, Food and beverages, Health and beauty, Home and lifestyle, Sports and travel\n",
        "****\n",
        "Unit price - Bir birlik mahsulot narxi\n",
        "****\n",
        "Quantity - Sotib olingan mahsulot soni\n",
        "****\n",
        "Tax - 5% li Soliq\n",
        "****\n",
        "Total - Soliqni qo'shgan holda  hisoblangan ummiy narx\n",
        "****\n",
        "Date - Sana\n",
        "****\n",
        "Time - Vaqt\n",
        "****\n",
        "Payment - To'lov turi (Cash-naqd, Credit-kredit karta, Ewallet-elektron hamyon)\n",
        "****\n",
        "COGS - Tannarxi\n",
        "****\n",
        "Gross margin percentage = (Jami daromad – sotilgan mahsulot tannarxi)/Jami daromad x 100\n",
        "****\n",
        "Gross income - yalpi daromad\n",
        "rating - Reyting\n",
        "****"
      ],
      "metadata": {
        "id": "gqBCKye5SGfS"
      }
    },
    {
      "cell_type": "markdown",
      "source": [
        ""
      ],
      "metadata": {
        "id": "TAjnFhW6gcKM"
      }
    },
    {
      "cell_type": "code",
      "source": [
        "df  = pd.read_csv(\"/content/sotuvlar.csv\",sep=',')"
      ],
      "metadata": {
        "id": "uHIVSKSDSGK-"
      },
      "execution_count": 158,
      "outputs": []
    },
    {
      "cell_type": "markdown",
      "source": [
        ""
      ],
      "metadata": {
        "id": "gooXPHIKgagN"
      }
    },
    {
      "cell_type": "code",
      "source": [
        "df.head()"
      ],
      "metadata": {
        "colab": {
          "base_uri": "https://localhost:8080/",
          "height": 392
        },
        "id": "WukiGxK9gvDW",
        "outputId": "fc5723fa-df1c-48a2-ed64-3ed6bb9d5c5f"
      },
      "execution_count": 159,
      "outputs": [
        {
          "output_type": "execute_result",
          "data": {
            "text/plain": [
              "    Invoice ID Branch       City Customer type  Gender  \\\n",
              "0  750-67-8428      A     Yangon        Member  Female   \n",
              "1  226-31-3081      C  Naypyitaw        Normal  Female   \n",
              "2  631-41-3108      A     Yangon        Normal    Male   \n",
              "3  123-19-1176      A     Yangon        Member    Male   \n",
              "4  373-73-7910      A     Yangon        Normal    Male   \n",
              "\n",
              "             Product line  Unit price  Quantity   Tax 5%     Total       Date  \\\n",
              "0       Health and beauty       74.69         7  26.1415  548.9715   1/5/2019   \n",
              "1  Electronic accessories       15.28         5   3.8200   80.2200   3/8/2019   \n",
              "2      Home and lifestyle       46.33         7  16.2155  340.5255   3/3/2019   \n",
              "3       Health and beauty       58.22         8  23.2880  489.0480  1/27/2019   \n",
              "4       Sports and travel       86.31         7  30.2085  634.3785   2/8/2019   \n",
              "\n",
              "    Time      Payment    cogs  gross margin percentage  gross income  Rating  \n",
              "0  13:08      Ewallet  522.83                 4.761905       26.1415     9.1  \n",
              "1  10:29         Cash   76.40                 4.761905        3.8200     9.6  \n",
              "2  13:23  Credit card  324.31                 4.761905       16.2155     7.4  \n",
              "3  20:33      Ewallet  465.76                 4.761905       23.2880     8.4  \n",
              "4  10:37      Ewallet  604.17                 4.761905       30.2085     5.3  "
            ],
            "text/html": [
              "\n",
              "  <div id=\"df-60cf5930-7645-42e6-9028-0b542438ece9\">\n",
              "    <div class=\"colab-df-container\">\n",
              "      <div>\n",
              "<style scoped>\n",
              "    .dataframe tbody tr th:only-of-type {\n",
              "        vertical-align: middle;\n",
              "    }\n",
              "\n",
              "    .dataframe tbody tr th {\n",
              "        vertical-align: top;\n",
              "    }\n",
              "\n",
              "    .dataframe thead th {\n",
              "        text-align: right;\n",
              "    }\n",
              "</style>\n",
              "<table border=\"1\" class=\"dataframe\">\n",
              "  <thead>\n",
              "    <tr style=\"text-align: right;\">\n",
              "      <th></th>\n",
              "      <th>Invoice ID</th>\n",
              "      <th>Branch</th>\n",
              "      <th>City</th>\n",
              "      <th>Customer type</th>\n",
              "      <th>Gender</th>\n",
              "      <th>Product line</th>\n",
              "      <th>Unit price</th>\n",
              "      <th>Quantity</th>\n",
              "      <th>Tax 5%</th>\n",
              "      <th>Total</th>\n",
              "      <th>Date</th>\n",
              "      <th>Time</th>\n",
              "      <th>Payment</th>\n",
              "      <th>cogs</th>\n",
              "      <th>gross margin percentage</th>\n",
              "      <th>gross income</th>\n",
              "      <th>Rating</th>\n",
              "    </tr>\n",
              "  </thead>\n",
              "  <tbody>\n",
              "    <tr>\n",
              "      <th>0</th>\n",
              "      <td>750-67-8428</td>\n",
              "      <td>A</td>\n",
              "      <td>Yangon</td>\n",
              "      <td>Member</td>\n",
              "      <td>Female</td>\n",
              "      <td>Health and beauty</td>\n",
              "      <td>74.69</td>\n",
              "      <td>7</td>\n",
              "      <td>26.1415</td>\n",
              "      <td>548.9715</td>\n",
              "      <td>1/5/2019</td>\n",
              "      <td>13:08</td>\n",
              "      <td>Ewallet</td>\n",
              "      <td>522.83</td>\n",
              "      <td>4.761905</td>\n",
              "      <td>26.1415</td>\n",
              "      <td>9.1</td>\n",
              "    </tr>\n",
              "    <tr>\n",
              "      <th>1</th>\n",
              "      <td>226-31-3081</td>\n",
              "      <td>C</td>\n",
              "      <td>Naypyitaw</td>\n",
              "      <td>Normal</td>\n",
              "      <td>Female</td>\n",
              "      <td>Electronic accessories</td>\n",
              "      <td>15.28</td>\n",
              "      <td>5</td>\n",
              "      <td>3.8200</td>\n",
              "      <td>80.2200</td>\n",
              "      <td>3/8/2019</td>\n",
              "      <td>10:29</td>\n",
              "      <td>Cash</td>\n",
              "      <td>76.40</td>\n",
              "      <td>4.761905</td>\n",
              "      <td>3.8200</td>\n",
              "      <td>9.6</td>\n",
              "    </tr>\n",
              "    <tr>\n",
              "      <th>2</th>\n",
              "      <td>631-41-3108</td>\n",
              "      <td>A</td>\n",
              "      <td>Yangon</td>\n",
              "      <td>Normal</td>\n",
              "      <td>Male</td>\n",
              "      <td>Home and lifestyle</td>\n",
              "      <td>46.33</td>\n",
              "      <td>7</td>\n",
              "      <td>16.2155</td>\n",
              "      <td>340.5255</td>\n",
              "      <td>3/3/2019</td>\n",
              "      <td>13:23</td>\n",
              "      <td>Credit card</td>\n",
              "      <td>324.31</td>\n",
              "      <td>4.761905</td>\n",
              "      <td>16.2155</td>\n",
              "      <td>7.4</td>\n",
              "    </tr>\n",
              "    <tr>\n",
              "      <th>3</th>\n",
              "      <td>123-19-1176</td>\n",
              "      <td>A</td>\n",
              "      <td>Yangon</td>\n",
              "      <td>Member</td>\n",
              "      <td>Male</td>\n",
              "      <td>Health and beauty</td>\n",
              "      <td>58.22</td>\n",
              "      <td>8</td>\n",
              "      <td>23.2880</td>\n",
              "      <td>489.0480</td>\n",
              "      <td>1/27/2019</td>\n",
              "      <td>20:33</td>\n",
              "      <td>Ewallet</td>\n",
              "      <td>465.76</td>\n",
              "      <td>4.761905</td>\n",
              "      <td>23.2880</td>\n",
              "      <td>8.4</td>\n",
              "    </tr>\n",
              "    <tr>\n",
              "      <th>4</th>\n",
              "      <td>373-73-7910</td>\n",
              "      <td>A</td>\n",
              "      <td>Yangon</td>\n",
              "      <td>Normal</td>\n",
              "      <td>Male</td>\n",
              "      <td>Sports and travel</td>\n",
              "      <td>86.31</td>\n",
              "      <td>7</td>\n",
              "      <td>30.2085</td>\n",
              "      <td>634.3785</td>\n",
              "      <td>2/8/2019</td>\n",
              "      <td>10:37</td>\n",
              "      <td>Ewallet</td>\n",
              "      <td>604.17</td>\n",
              "      <td>4.761905</td>\n",
              "      <td>30.2085</td>\n",
              "      <td>5.3</td>\n",
              "    </tr>\n",
              "  </tbody>\n",
              "</table>\n",
              "</div>\n",
              "      <button class=\"colab-df-convert\" onclick=\"convertToInteractive('df-60cf5930-7645-42e6-9028-0b542438ece9')\"\n",
              "              title=\"Convert this dataframe to an interactive table.\"\n",
              "              style=\"display:none;\">\n",
              "        \n",
              "  <svg xmlns=\"http://www.w3.org/2000/svg\" height=\"24px\"viewBox=\"0 0 24 24\"\n",
              "       width=\"24px\">\n",
              "    <path d=\"M0 0h24v24H0V0z\" fill=\"none\"/>\n",
              "    <path d=\"M18.56 5.44l.94 2.06.94-2.06 2.06-.94-2.06-.94-.94-2.06-.94 2.06-2.06.94zm-11 1L8.5 8.5l.94-2.06 2.06-.94-2.06-.94L8.5 2.5l-.94 2.06-2.06.94zm10 10l.94 2.06.94-2.06 2.06-.94-2.06-.94-.94-2.06-.94 2.06-2.06.94z\"/><path d=\"M17.41 7.96l-1.37-1.37c-.4-.4-.92-.59-1.43-.59-.52 0-1.04.2-1.43.59L10.3 9.45l-7.72 7.72c-.78.78-.78 2.05 0 2.83L4 21.41c.39.39.9.59 1.41.59.51 0 1.02-.2 1.41-.59l7.78-7.78 2.81-2.81c.8-.78.8-2.07 0-2.86zM5.41 20L4 18.59l7.72-7.72 1.47 1.35L5.41 20z\"/>\n",
              "  </svg>\n",
              "      </button>\n",
              "      \n",
              "  <style>\n",
              "    .colab-df-container {\n",
              "      display:flex;\n",
              "      flex-wrap:wrap;\n",
              "      gap: 12px;\n",
              "    }\n",
              "\n",
              "    .colab-df-convert {\n",
              "      background-color: #E8F0FE;\n",
              "      border: none;\n",
              "      border-radius: 50%;\n",
              "      cursor: pointer;\n",
              "      display: none;\n",
              "      fill: #1967D2;\n",
              "      height: 32px;\n",
              "      padding: 0 0 0 0;\n",
              "      width: 32px;\n",
              "    }\n",
              "\n",
              "    .colab-df-convert:hover {\n",
              "      background-color: #E2EBFA;\n",
              "      box-shadow: 0px 1px 2px rgba(60, 64, 67, 0.3), 0px 1px 3px 1px rgba(60, 64, 67, 0.15);\n",
              "      fill: #174EA6;\n",
              "    }\n",
              "\n",
              "    [theme=dark] .colab-df-convert {\n",
              "      background-color: #3B4455;\n",
              "      fill: #D2E3FC;\n",
              "    }\n",
              "\n",
              "    [theme=dark] .colab-df-convert:hover {\n",
              "      background-color: #434B5C;\n",
              "      box-shadow: 0px 1px 3px 1px rgba(0, 0, 0, 0.15);\n",
              "      filter: drop-shadow(0px 1px 2px rgba(0, 0, 0, 0.3));\n",
              "      fill: #FFFFFF;\n",
              "    }\n",
              "  </style>\n",
              "\n",
              "      <script>\n",
              "        const buttonEl =\n",
              "          document.querySelector('#df-60cf5930-7645-42e6-9028-0b542438ece9 button.colab-df-convert');\n",
              "        buttonEl.style.display =\n",
              "          google.colab.kernel.accessAllowed ? 'block' : 'none';\n",
              "\n",
              "        async function convertToInteractive(key) {\n",
              "          const element = document.querySelector('#df-60cf5930-7645-42e6-9028-0b542438ece9');\n",
              "          const dataTable =\n",
              "            await google.colab.kernel.invokeFunction('convertToInteractive',\n",
              "                                                     [key], {});\n",
              "          if (!dataTable) return;\n",
              "\n",
              "          const docLinkHtml = 'Like what you see? Visit the ' +\n",
              "            '<a target=\"_blank\" href=https://colab.research.google.com/notebooks/data_table.ipynb>data table notebook</a>'\n",
              "            + ' to learn more about interactive tables.';\n",
              "          element.innerHTML = '';\n",
              "          dataTable['output_type'] = 'display_data';\n",
              "          await google.colab.output.renderOutput(dataTable, element);\n",
              "          const docLink = document.createElement('div');\n",
              "          docLink.innerHTML = docLinkHtml;\n",
              "          element.appendChild(docLink);\n",
              "        }\n",
              "      </script>\n",
              "    </div>\n",
              "  </div>\n",
              "  "
            ]
          },
          "metadata": {},
          "execution_count": 159
        }
      ]
    },
    {
      "cell_type": "code",
      "source": [
        "df.info()"
      ],
      "metadata": {
        "id": "HwJATFtSimqq",
        "colab": {
          "base_uri": "https://localhost:8080/"
        },
        "outputId": "3968a0e4-53bd-4dab-ecc3-bc7fabb36cf5"
      },
      "execution_count": 160,
      "outputs": [
        {
          "output_type": "stream",
          "name": "stdout",
          "text": [
            "<class 'pandas.core.frame.DataFrame'>\n",
            "RangeIndex: 1000 entries, 0 to 999\n",
            "Data columns (total 17 columns):\n",
            " #   Column                   Non-Null Count  Dtype  \n",
            "---  ------                   --------------  -----  \n",
            " 0   Invoice ID               1000 non-null   object \n",
            " 1   Branch                   1000 non-null   object \n",
            " 2   City                     1000 non-null   object \n",
            " 3   Customer type            1000 non-null   object \n",
            " 4   Gender                   1000 non-null   object \n",
            " 5   Product line             1000 non-null   object \n",
            " 6   Unit price               1000 non-null   float64\n",
            " 7   Quantity                 1000 non-null   int64  \n",
            " 8   Tax 5%                   1000 non-null   float64\n",
            " 9   Total                    1000 non-null   float64\n",
            " 10  Date                     1000 non-null   object \n",
            " 11  Time                     1000 non-null   object \n",
            " 12  Payment                  1000 non-null   object \n",
            " 13  cogs                     1000 non-null   float64\n",
            " 14  gross margin percentage  1000 non-null   float64\n",
            " 15  gross income             1000 non-null   float64\n",
            " 16  Rating                   1000 non-null   float64\n",
            "dtypes: float64(7), int64(1), object(9)\n",
            "memory usage: 132.9+ KB\n"
          ]
        }
      ]
    },
    {
      "cell_type": "code",
      "source": [
        "df.shape#columns&rows\n"
      ],
      "metadata": {
        "colab": {
          "base_uri": "https://localhost:8080/"
        },
        "id": "6D74nYDPgq5L",
        "outputId": "a492ee55-9fb1-4c6a-9631-64b624828ad0"
      },
      "execution_count": 161,
      "outputs": [
        {
          "output_type": "execute_result",
          "data": {
            "text/plain": [
              "(1000, 17)"
            ]
          },
          "metadata": {},
          "execution_count": 161
        }
      ]
    },
    {
      "cell_type": "code",
      "source": [
        "df.describe()"
      ],
      "metadata": {
        "id": "Myvg-qmSgvsL",
        "colab": {
          "base_uri": "https://localhost:8080/",
          "height": 300
        },
        "outputId": "7f42458f-2086-41c0-9a99-c656b02f69bd"
      },
      "execution_count": 162,
      "outputs": [
        {
          "output_type": "execute_result",
          "data": {
            "text/plain": [
              "        Unit price     Quantity       Tax 5%        Total        cogs  \\\n",
              "count  1000.000000  1000.000000  1000.000000  1000.000000  1000.00000   \n",
              "mean     55.672130     5.510000    15.379369   322.966749   307.58738   \n",
              "std      26.494628     2.923431    11.708825   245.885335   234.17651   \n",
              "min      10.080000     1.000000     0.508500    10.678500    10.17000   \n",
              "25%      32.875000     3.000000     5.924875   124.422375   118.49750   \n",
              "50%      55.230000     5.000000    12.088000   253.848000   241.76000   \n",
              "75%      77.935000     8.000000    22.445250   471.350250   448.90500   \n",
              "max      99.960000    10.000000    49.650000  1042.650000   993.00000   \n",
              "\n",
              "       gross margin percentage  gross income      Rating  \n",
              "count              1000.000000   1000.000000  1000.00000  \n",
              "mean                  4.761905     15.379369     6.97270  \n",
              "std                   0.000000     11.708825     1.71858  \n",
              "min                   4.761905      0.508500     4.00000  \n",
              "25%                   4.761905      5.924875     5.50000  \n",
              "50%                   4.761905     12.088000     7.00000  \n",
              "75%                   4.761905     22.445250     8.50000  \n",
              "max                   4.761905     49.650000    10.00000  "
            ],
            "text/html": [
              "\n",
              "  <div id=\"df-b9fd67d0-8fce-4a46-af56-f2afb647f538\">\n",
              "    <div class=\"colab-df-container\">\n",
              "      <div>\n",
              "<style scoped>\n",
              "    .dataframe tbody tr th:only-of-type {\n",
              "        vertical-align: middle;\n",
              "    }\n",
              "\n",
              "    .dataframe tbody tr th {\n",
              "        vertical-align: top;\n",
              "    }\n",
              "\n",
              "    .dataframe thead th {\n",
              "        text-align: right;\n",
              "    }\n",
              "</style>\n",
              "<table border=\"1\" class=\"dataframe\">\n",
              "  <thead>\n",
              "    <tr style=\"text-align: right;\">\n",
              "      <th></th>\n",
              "      <th>Unit price</th>\n",
              "      <th>Quantity</th>\n",
              "      <th>Tax 5%</th>\n",
              "      <th>Total</th>\n",
              "      <th>cogs</th>\n",
              "      <th>gross margin percentage</th>\n",
              "      <th>gross income</th>\n",
              "      <th>Rating</th>\n",
              "    </tr>\n",
              "  </thead>\n",
              "  <tbody>\n",
              "    <tr>\n",
              "      <th>count</th>\n",
              "      <td>1000.000000</td>\n",
              "      <td>1000.000000</td>\n",
              "      <td>1000.000000</td>\n",
              "      <td>1000.000000</td>\n",
              "      <td>1000.00000</td>\n",
              "      <td>1000.000000</td>\n",
              "      <td>1000.000000</td>\n",
              "      <td>1000.00000</td>\n",
              "    </tr>\n",
              "    <tr>\n",
              "      <th>mean</th>\n",
              "      <td>55.672130</td>\n",
              "      <td>5.510000</td>\n",
              "      <td>15.379369</td>\n",
              "      <td>322.966749</td>\n",
              "      <td>307.58738</td>\n",
              "      <td>4.761905</td>\n",
              "      <td>15.379369</td>\n",
              "      <td>6.97270</td>\n",
              "    </tr>\n",
              "    <tr>\n",
              "      <th>std</th>\n",
              "      <td>26.494628</td>\n",
              "      <td>2.923431</td>\n",
              "      <td>11.708825</td>\n",
              "      <td>245.885335</td>\n",
              "      <td>234.17651</td>\n",
              "      <td>0.000000</td>\n",
              "      <td>11.708825</td>\n",
              "      <td>1.71858</td>\n",
              "    </tr>\n",
              "    <tr>\n",
              "      <th>min</th>\n",
              "      <td>10.080000</td>\n",
              "      <td>1.000000</td>\n",
              "      <td>0.508500</td>\n",
              "      <td>10.678500</td>\n",
              "      <td>10.17000</td>\n",
              "      <td>4.761905</td>\n",
              "      <td>0.508500</td>\n",
              "      <td>4.00000</td>\n",
              "    </tr>\n",
              "    <tr>\n",
              "      <th>25%</th>\n",
              "      <td>32.875000</td>\n",
              "      <td>3.000000</td>\n",
              "      <td>5.924875</td>\n",
              "      <td>124.422375</td>\n",
              "      <td>118.49750</td>\n",
              "      <td>4.761905</td>\n",
              "      <td>5.924875</td>\n",
              "      <td>5.50000</td>\n",
              "    </tr>\n",
              "    <tr>\n",
              "      <th>50%</th>\n",
              "      <td>55.230000</td>\n",
              "      <td>5.000000</td>\n",
              "      <td>12.088000</td>\n",
              "      <td>253.848000</td>\n",
              "      <td>241.76000</td>\n",
              "      <td>4.761905</td>\n",
              "      <td>12.088000</td>\n",
              "      <td>7.00000</td>\n",
              "    </tr>\n",
              "    <tr>\n",
              "      <th>75%</th>\n",
              "      <td>77.935000</td>\n",
              "      <td>8.000000</td>\n",
              "      <td>22.445250</td>\n",
              "      <td>471.350250</td>\n",
              "      <td>448.90500</td>\n",
              "      <td>4.761905</td>\n",
              "      <td>22.445250</td>\n",
              "      <td>8.50000</td>\n",
              "    </tr>\n",
              "    <tr>\n",
              "      <th>max</th>\n",
              "      <td>99.960000</td>\n",
              "      <td>10.000000</td>\n",
              "      <td>49.650000</td>\n",
              "      <td>1042.650000</td>\n",
              "      <td>993.00000</td>\n",
              "      <td>4.761905</td>\n",
              "      <td>49.650000</td>\n",
              "      <td>10.00000</td>\n",
              "    </tr>\n",
              "  </tbody>\n",
              "</table>\n",
              "</div>\n",
              "      <button class=\"colab-df-convert\" onclick=\"convertToInteractive('df-b9fd67d0-8fce-4a46-af56-f2afb647f538')\"\n",
              "              title=\"Convert this dataframe to an interactive table.\"\n",
              "              style=\"display:none;\">\n",
              "        \n",
              "  <svg xmlns=\"http://www.w3.org/2000/svg\" height=\"24px\"viewBox=\"0 0 24 24\"\n",
              "       width=\"24px\">\n",
              "    <path d=\"M0 0h24v24H0V0z\" fill=\"none\"/>\n",
              "    <path d=\"M18.56 5.44l.94 2.06.94-2.06 2.06-.94-2.06-.94-.94-2.06-.94 2.06-2.06.94zm-11 1L8.5 8.5l.94-2.06 2.06-.94-2.06-.94L8.5 2.5l-.94 2.06-2.06.94zm10 10l.94 2.06.94-2.06 2.06-.94-2.06-.94-.94-2.06-.94 2.06-2.06.94z\"/><path d=\"M17.41 7.96l-1.37-1.37c-.4-.4-.92-.59-1.43-.59-.52 0-1.04.2-1.43.59L10.3 9.45l-7.72 7.72c-.78.78-.78 2.05 0 2.83L4 21.41c.39.39.9.59 1.41.59.51 0 1.02-.2 1.41-.59l7.78-7.78 2.81-2.81c.8-.78.8-2.07 0-2.86zM5.41 20L4 18.59l7.72-7.72 1.47 1.35L5.41 20z\"/>\n",
              "  </svg>\n",
              "      </button>\n",
              "      \n",
              "  <style>\n",
              "    .colab-df-container {\n",
              "      display:flex;\n",
              "      flex-wrap:wrap;\n",
              "      gap: 12px;\n",
              "    }\n",
              "\n",
              "    .colab-df-convert {\n",
              "      background-color: #E8F0FE;\n",
              "      border: none;\n",
              "      border-radius: 50%;\n",
              "      cursor: pointer;\n",
              "      display: none;\n",
              "      fill: #1967D2;\n",
              "      height: 32px;\n",
              "      padding: 0 0 0 0;\n",
              "      width: 32px;\n",
              "    }\n",
              "\n",
              "    .colab-df-convert:hover {\n",
              "      background-color: #E2EBFA;\n",
              "      box-shadow: 0px 1px 2px rgba(60, 64, 67, 0.3), 0px 1px 3px 1px rgba(60, 64, 67, 0.15);\n",
              "      fill: #174EA6;\n",
              "    }\n",
              "\n",
              "    [theme=dark] .colab-df-convert {\n",
              "      background-color: #3B4455;\n",
              "      fill: #D2E3FC;\n",
              "    }\n",
              "\n",
              "    [theme=dark] .colab-df-convert:hover {\n",
              "      background-color: #434B5C;\n",
              "      box-shadow: 0px 1px 3px 1px rgba(0, 0, 0, 0.15);\n",
              "      filter: drop-shadow(0px 1px 2px rgba(0, 0, 0, 0.3));\n",
              "      fill: #FFFFFF;\n",
              "    }\n",
              "  </style>\n",
              "\n",
              "      <script>\n",
              "        const buttonEl =\n",
              "          document.querySelector('#df-b9fd67d0-8fce-4a46-af56-f2afb647f538 button.colab-df-convert');\n",
              "        buttonEl.style.display =\n",
              "          google.colab.kernel.accessAllowed ? 'block' : 'none';\n",
              "\n",
              "        async function convertToInteractive(key) {\n",
              "          const element = document.querySelector('#df-b9fd67d0-8fce-4a46-af56-f2afb647f538');\n",
              "          const dataTable =\n",
              "            await google.colab.kernel.invokeFunction('convertToInteractive',\n",
              "                                                     [key], {});\n",
              "          if (!dataTable) return;\n",
              "\n",
              "          const docLinkHtml = 'Like what you see? Visit the ' +\n",
              "            '<a target=\"_blank\" href=https://colab.research.google.com/notebooks/data_table.ipynb>data table notebook</a>'\n",
              "            + ' to learn more about interactive tables.';\n",
              "          element.innerHTML = '';\n",
              "          dataTable['output_type'] = 'display_data';\n",
              "          await google.colab.output.renderOutput(dataTable, element);\n",
              "          const docLink = document.createElement('div');\n",
              "          docLink.innerHTML = docLinkHtml;\n",
              "          element.appendChild(docLink);\n",
              "        }\n",
              "      </script>\n",
              "    </div>\n",
              "  </div>\n",
              "  "
            ]
          },
          "metadata": {},
          "execution_count": 162
        }
      ]
    },
    {
      "cell_type": "markdown",
      "source": [
        "**Bu yerda 5% foizli soliq va yalpi daromad teng bulganligi uchun olib tashlandi va  Joriy andeksi ham**"
      ],
      "metadata": {
        "id": "KptE8TTMm3Q7"
      }
    },
    {
      "cell_type": "code",
      "source": [
        "df.drop([\"Tax 5%\",\"gross income\",\"Invoice ID\"],axis=1,inplace=True)"
      ],
      "metadata": {
        "id": "TEjFs-ualBkj"
      },
      "execution_count": 163,
      "outputs": []
    },
    {
      "cell_type": "code",
      "source": [
        "df.head()\n"
      ],
      "metadata": {
        "id": "IrGvMAY0cH0z",
        "colab": {
          "base_uri": "https://localhost:8080/",
          "height": 354
        },
        "outputId": "43a4c01e-ecbc-4bf1-8e14-5edb9e0c1965"
      },
      "execution_count": 164,
      "outputs": [
        {
          "output_type": "execute_result",
          "data": {
            "text/plain": [
              "  Branch       City Customer type  Gender            Product line  Unit price  \\\n",
              "0      A     Yangon        Member  Female       Health and beauty       74.69   \n",
              "1      C  Naypyitaw        Normal  Female  Electronic accessories       15.28   \n",
              "2      A     Yangon        Normal    Male      Home and lifestyle       46.33   \n",
              "3      A     Yangon        Member    Male       Health and beauty       58.22   \n",
              "4      A     Yangon        Normal    Male       Sports and travel       86.31   \n",
              "\n",
              "   Quantity     Total       Date   Time      Payment    cogs  \\\n",
              "0         7  548.9715   1/5/2019  13:08      Ewallet  522.83   \n",
              "1         5   80.2200   3/8/2019  10:29         Cash   76.40   \n",
              "2         7  340.5255   3/3/2019  13:23  Credit card  324.31   \n",
              "3         8  489.0480  1/27/2019  20:33      Ewallet  465.76   \n",
              "4         7  634.3785   2/8/2019  10:37      Ewallet  604.17   \n",
              "\n",
              "   gross margin percentage  Rating  \n",
              "0                 4.761905     9.1  \n",
              "1                 4.761905     9.6  \n",
              "2                 4.761905     7.4  \n",
              "3                 4.761905     8.4  \n",
              "4                 4.761905     5.3  "
            ],
            "text/html": [
              "\n",
              "  <div id=\"df-81ef1ef1-fe03-4f7e-9b95-4285fac74089\">\n",
              "    <div class=\"colab-df-container\">\n",
              "      <div>\n",
              "<style scoped>\n",
              "    .dataframe tbody tr th:only-of-type {\n",
              "        vertical-align: middle;\n",
              "    }\n",
              "\n",
              "    .dataframe tbody tr th {\n",
              "        vertical-align: top;\n",
              "    }\n",
              "\n",
              "    .dataframe thead th {\n",
              "        text-align: right;\n",
              "    }\n",
              "</style>\n",
              "<table border=\"1\" class=\"dataframe\">\n",
              "  <thead>\n",
              "    <tr style=\"text-align: right;\">\n",
              "      <th></th>\n",
              "      <th>Branch</th>\n",
              "      <th>City</th>\n",
              "      <th>Customer type</th>\n",
              "      <th>Gender</th>\n",
              "      <th>Product line</th>\n",
              "      <th>Unit price</th>\n",
              "      <th>Quantity</th>\n",
              "      <th>Total</th>\n",
              "      <th>Date</th>\n",
              "      <th>Time</th>\n",
              "      <th>Payment</th>\n",
              "      <th>cogs</th>\n",
              "      <th>gross margin percentage</th>\n",
              "      <th>Rating</th>\n",
              "    </tr>\n",
              "  </thead>\n",
              "  <tbody>\n",
              "    <tr>\n",
              "      <th>0</th>\n",
              "      <td>A</td>\n",
              "      <td>Yangon</td>\n",
              "      <td>Member</td>\n",
              "      <td>Female</td>\n",
              "      <td>Health and beauty</td>\n",
              "      <td>74.69</td>\n",
              "      <td>7</td>\n",
              "      <td>548.9715</td>\n",
              "      <td>1/5/2019</td>\n",
              "      <td>13:08</td>\n",
              "      <td>Ewallet</td>\n",
              "      <td>522.83</td>\n",
              "      <td>4.761905</td>\n",
              "      <td>9.1</td>\n",
              "    </tr>\n",
              "    <tr>\n",
              "      <th>1</th>\n",
              "      <td>C</td>\n",
              "      <td>Naypyitaw</td>\n",
              "      <td>Normal</td>\n",
              "      <td>Female</td>\n",
              "      <td>Electronic accessories</td>\n",
              "      <td>15.28</td>\n",
              "      <td>5</td>\n",
              "      <td>80.2200</td>\n",
              "      <td>3/8/2019</td>\n",
              "      <td>10:29</td>\n",
              "      <td>Cash</td>\n",
              "      <td>76.40</td>\n",
              "      <td>4.761905</td>\n",
              "      <td>9.6</td>\n",
              "    </tr>\n",
              "    <tr>\n",
              "      <th>2</th>\n",
              "      <td>A</td>\n",
              "      <td>Yangon</td>\n",
              "      <td>Normal</td>\n",
              "      <td>Male</td>\n",
              "      <td>Home and lifestyle</td>\n",
              "      <td>46.33</td>\n",
              "      <td>7</td>\n",
              "      <td>340.5255</td>\n",
              "      <td>3/3/2019</td>\n",
              "      <td>13:23</td>\n",
              "      <td>Credit card</td>\n",
              "      <td>324.31</td>\n",
              "      <td>4.761905</td>\n",
              "      <td>7.4</td>\n",
              "    </tr>\n",
              "    <tr>\n",
              "      <th>3</th>\n",
              "      <td>A</td>\n",
              "      <td>Yangon</td>\n",
              "      <td>Member</td>\n",
              "      <td>Male</td>\n",
              "      <td>Health and beauty</td>\n",
              "      <td>58.22</td>\n",
              "      <td>8</td>\n",
              "      <td>489.0480</td>\n",
              "      <td>1/27/2019</td>\n",
              "      <td>20:33</td>\n",
              "      <td>Ewallet</td>\n",
              "      <td>465.76</td>\n",
              "      <td>4.761905</td>\n",
              "      <td>8.4</td>\n",
              "    </tr>\n",
              "    <tr>\n",
              "      <th>4</th>\n",
              "      <td>A</td>\n",
              "      <td>Yangon</td>\n",
              "      <td>Normal</td>\n",
              "      <td>Male</td>\n",
              "      <td>Sports and travel</td>\n",
              "      <td>86.31</td>\n",
              "      <td>7</td>\n",
              "      <td>634.3785</td>\n",
              "      <td>2/8/2019</td>\n",
              "      <td>10:37</td>\n",
              "      <td>Ewallet</td>\n",
              "      <td>604.17</td>\n",
              "      <td>4.761905</td>\n",
              "      <td>5.3</td>\n",
              "    </tr>\n",
              "  </tbody>\n",
              "</table>\n",
              "</div>\n",
              "      <button class=\"colab-df-convert\" onclick=\"convertToInteractive('df-81ef1ef1-fe03-4f7e-9b95-4285fac74089')\"\n",
              "              title=\"Convert this dataframe to an interactive table.\"\n",
              "              style=\"display:none;\">\n",
              "        \n",
              "  <svg xmlns=\"http://www.w3.org/2000/svg\" height=\"24px\"viewBox=\"0 0 24 24\"\n",
              "       width=\"24px\">\n",
              "    <path d=\"M0 0h24v24H0V0z\" fill=\"none\"/>\n",
              "    <path d=\"M18.56 5.44l.94 2.06.94-2.06 2.06-.94-2.06-.94-.94-2.06-.94 2.06-2.06.94zm-11 1L8.5 8.5l.94-2.06 2.06-.94-2.06-.94L8.5 2.5l-.94 2.06-2.06.94zm10 10l.94 2.06.94-2.06 2.06-.94-2.06-.94-.94-2.06-.94 2.06-2.06.94z\"/><path d=\"M17.41 7.96l-1.37-1.37c-.4-.4-.92-.59-1.43-.59-.52 0-1.04.2-1.43.59L10.3 9.45l-7.72 7.72c-.78.78-.78 2.05 0 2.83L4 21.41c.39.39.9.59 1.41.59.51 0 1.02-.2 1.41-.59l7.78-7.78 2.81-2.81c.8-.78.8-2.07 0-2.86zM5.41 20L4 18.59l7.72-7.72 1.47 1.35L5.41 20z\"/>\n",
              "  </svg>\n",
              "      </button>\n",
              "      \n",
              "  <style>\n",
              "    .colab-df-container {\n",
              "      display:flex;\n",
              "      flex-wrap:wrap;\n",
              "      gap: 12px;\n",
              "    }\n",
              "\n",
              "    .colab-df-convert {\n",
              "      background-color: #E8F0FE;\n",
              "      border: none;\n",
              "      border-radius: 50%;\n",
              "      cursor: pointer;\n",
              "      display: none;\n",
              "      fill: #1967D2;\n",
              "      height: 32px;\n",
              "      padding: 0 0 0 0;\n",
              "      width: 32px;\n",
              "    }\n",
              "\n",
              "    .colab-df-convert:hover {\n",
              "      background-color: #E2EBFA;\n",
              "      box-shadow: 0px 1px 2px rgba(60, 64, 67, 0.3), 0px 1px 3px 1px rgba(60, 64, 67, 0.15);\n",
              "      fill: #174EA6;\n",
              "    }\n",
              "\n",
              "    [theme=dark] .colab-df-convert {\n",
              "      background-color: #3B4455;\n",
              "      fill: #D2E3FC;\n",
              "    }\n",
              "\n",
              "    [theme=dark] .colab-df-convert:hover {\n",
              "      background-color: #434B5C;\n",
              "      box-shadow: 0px 1px 3px 1px rgba(0, 0, 0, 0.15);\n",
              "      filter: drop-shadow(0px 1px 2px rgba(0, 0, 0, 0.3));\n",
              "      fill: #FFFFFF;\n",
              "    }\n",
              "  </style>\n",
              "\n",
              "      <script>\n",
              "        const buttonEl =\n",
              "          document.querySelector('#df-81ef1ef1-fe03-4f7e-9b95-4285fac74089 button.colab-df-convert');\n",
              "        buttonEl.style.display =\n",
              "          google.colab.kernel.accessAllowed ? 'block' : 'none';\n",
              "\n",
              "        async function convertToInteractive(key) {\n",
              "          const element = document.querySelector('#df-81ef1ef1-fe03-4f7e-9b95-4285fac74089');\n",
              "          const dataTable =\n",
              "            await google.colab.kernel.invokeFunction('convertToInteractive',\n",
              "                                                     [key], {});\n",
              "          if (!dataTable) return;\n",
              "\n",
              "          const docLinkHtml = 'Like what you see? Visit the ' +\n",
              "            '<a target=\"_blank\" href=https://colab.research.google.com/notebooks/data_table.ipynb>data table notebook</a>'\n",
              "            + ' to learn more about interactive tables.';\n",
              "          element.innerHTML = '';\n",
              "          dataTable['output_type'] = 'display_data';\n",
              "          await google.colab.output.renderOutput(dataTable, element);\n",
              "          const docLink = document.createElement('div');\n",
              "          docLink.innerHTML = docLinkHtml;\n",
              "          element.appendChild(docLink);\n",
              "        }\n",
              "      </script>\n",
              "    </div>\n",
              "  </div>\n",
              "  "
            ]
          },
          "metadata": {},
          "execution_count": 164
        }
      ]
    },
    {
      "cell_type": "code",
      "source": [
        "df.shape"
      ],
      "metadata": {
        "id": "bme64ORcgvhw",
        "colab": {
          "base_uri": "https://localhost:8080/"
        },
        "outputId": "16a48e9d-23d3-464f-a70a-960401c0179d"
      },
      "execution_count": 165,
      "outputs": [
        {
          "output_type": "execute_result",
          "data": {
            "text/plain": [
              "(1000, 14)"
            ]
          },
          "metadata": {},
          "execution_count": 165
        }
      ]
    },
    {
      "cell_type": "markdown",
      "source": [
        "Bu yerda Genderlar soni ko'rsatilgan\n",
        "**Ayollar:501**\n",
        "**Erkaklar:499**"
      ],
      "metadata": {
        "id": "JfsHsS4psGre"
      }
    },
    {
      "cell_type": "code",
      "source": [
        "df[\"Gender\"].value_counts()\n"
      ],
      "metadata": {
        "colab": {
          "base_uri": "https://localhost:8080/"
        },
        "id": "iX2-kv9_rgEr",
        "outputId": "2bfb971e-4d82-49c4-b9e9-3c4f4ef8a1ca"
      },
      "execution_count": 166,
      "outputs": [
        {
          "output_type": "execute_result",
          "data": {
            "text/plain": [
              "Female    501\n",
              "Male      499\n",
              "Name: Gender, dtype: int64"
            ]
          },
          "metadata": {},
          "execution_count": 166
        }
      ]
    },
    {
      "cell_type": "code",
      "source": [
        "sns.countplot(\"Gender\",data=df)"
      ],
      "metadata": {
        "id": "3Z4cVR7Ggvck",
        "colab": {
          "base_uri": "https://localhost:8080/",
          "height": 353
        },
        "outputId": "3f711b72-85a3-43dd-c658-1ee7975c9722"
      },
      "execution_count": 167,
      "outputs": [
        {
          "output_type": "stream",
          "name": "stderr",
          "text": [
            "/usr/local/lib/python3.7/dist-packages/seaborn/_decorators.py:43: FutureWarning: Pass the following variable as a keyword arg: x. From version 0.12, the only valid positional argument will be `data`, and passing other arguments without an explicit keyword will result in an error or misinterpretation.\n",
            "  FutureWarning\n"
          ]
        },
        {
          "output_type": "execute_result",
          "data": {
            "text/plain": [
              "<matplotlib.axes._subplots.AxesSubplot at 0x7f3ea804b150>"
            ]
          },
          "metadata": {},
          "execution_count": 167
        },
        {
          "output_type": "display_data",
          "data": {
            "text/plain": [
              "<Figure size 432x288 with 1 Axes>"
            ],
            "image/png": "[encoded data removed]"
          },
          "metadata": {
            "needs_background": "light"
          }
        }
      ]
    },
    {
      "cell_type": "code",
      "source": [
        "y=df[\"City\"].value_counts()\n",
        "df2=pd.DataFrame(y)\n",
        "df2.head()"
      ],
      "metadata": {
        "id": "nVDFXseBPI2T",
        "colab": {
          "base_uri": "https://localhost:8080/",
          "height": 143
        },
        "outputId": "487e8fec-671e-40f4-a210-41a05ecd0bab"
      },
      "execution_count": 168,
      "outputs": [
        {
          "output_type": "execute_result",
          "data": {
            "text/plain": [
              "           City\n",
              "Yangon      340\n",
              "Mandalay    332\n",
              "Naypyitaw   328"
            ],
            "text/html": [
              "\n",
              "  <div id=\"df-5775ca97-dcad-499f-858c-467a96f0c266\">\n",
              "    <div class=\"colab-df-container\">\n",
              "      <div>\n",
              "<style scoped>\n",
              "    .dataframe tbody tr th:only-of-type {\n",
              "        vertical-align: middle;\n",
              "    }\n",
              "\n",
              "    .dataframe tbody tr th {\n",
              "        vertical-align: top;\n",
              "    }\n",
              "\n",
              "    .dataframe thead th {\n",
              "        text-align: right;\n",
              "    }\n",
              "</style>\n",
              "<table border=\"1\" class=\"dataframe\">\n",
              "  <thead>\n",
              "    <tr style=\"text-align: right;\">\n",
              "      <th></th>\n",
              "      <th>City</th>\n",
              "    </tr>\n",
              "  </thead>\n",
              "  <tbody>\n",
              "    <tr>\n",
              "      <th>Yangon</th>\n",
              "      <td>340</td>\n",
              "    </tr>\n",
              "    <tr>\n",
              "      <th>Mandalay</th>\n",
              "      <td>332</td>\n",
              "    </tr>\n",
              "    <tr>\n",
              "      <th>Naypyitaw</th>\n",
              "      <td>328</td>\n",
              "    </tr>\n",
              "  </tbody>\n",
              "</table>\n",
              "</div>\n",
              "      <button class=\"colab-df-convert\" onclick=\"convertToInteractive('df-5775ca97-dcad-499f-858c-467a96f0c266')\"\n",
              "              title=\"Convert this dataframe to an interactive table.\"\n",
              "              style=\"display:none;\">\n",
              "        \n",
              "  <svg xmlns=\"http://www.w3.org/2000/svg\" height=\"24px\"viewBox=\"0 0 24 24\"\n",
              "       width=\"24px\">\n",
              "    <path d=\"M0 0h24v24H0V0z\" fill=\"none\"/>\n",
              "    <path d=\"M18.56 5.44l.94 2.06.94-2.06 2.06-.94-2.06-.94-.94-2.06-.94 2.06-2.06.94zm-11 1L8.5 8.5l.94-2.06 2.06-.94-2.06-.94L8.5 2.5l-.94 2.06-2.06.94zm10 10l.94 2.06.94-2.06 2.06-.94-2.06-.94-.94-2.06-.94 2.06-2.06.94z\"/><path d=\"M17.41 7.96l-1.37-1.37c-.4-.4-.92-.59-1.43-.59-.52 0-1.04.2-1.43.59L10.3 9.45l-7.72 7.72c-.78.78-.78 2.05 0 2.83L4 21.41c.39.39.9.59 1.41.59.51 0 1.02-.2 1.41-.59l7.78-7.78 2.81-2.81c.8-.78.8-2.07 0-2.86zM5.41 20L4 18.59l7.72-7.72 1.47 1.35L5.41 20z\"/>\n",
              "  </svg>\n",
              "      </button>\n",
              "      \n",
              "  <style>\n",
              "    .colab-df-container {\n",
              "      display:flex;\n",
              "      flex-wrap:wrap;\n",
              "      gap: 12px;\n",
              "    }\n",
              "\n",
              "    .colab-df-convert {\n",
              "      background-color: #E8F0FE;\n",
              "      border: none;\n",
              "      border-radius: 50%;\n",
              "      cursor: pointer;\n",
              "      display: none;\n",
              "      fill: #1967D2;\n",
              "      height: 32px;\n",
              "      padding: 0 0 0 0;\n",
              "      width: 32px;\n",
              "    }\n",
              "\n",
              "    .colab-df-convert:hover {\n",
              "      background-color: #E2EBFA;\n",
              "      box-shadow: 0px 1px 2px rgba(60, 64, 67, 0.3), 0px 1px 3px 1px rgba(60, 64, 67, 0.15);\n",
              "      fill: #174EA6;\n",
              "    }\n",
              "\n",
              "    [theme=dark] .colab-df-convert {\n",
              "      background-color: #3B4455;\n",
              "      fill: #D2E3FC;\n",
              "    }\n",
              "\n",
              "    [theme=dark] .colab-df-convert:hover {\n",
              "      background-color: #434B5C;\n",
              "      box-shadow: 0px 1px 3px 1px rgba(0, 0, 0, 0.15);\n",
              "      filter: drop-shadow(0px 1px 2px rgba(0, 0, 0, 0.3));\n",
              "      fill: #FFFFFF;\n",
              "    }\n",
              "  </style>\n",
              "\n",
              "      <script>\n",
              "        const buttonEl =\n",
              "          document.querySelector('#df-5775ca97-dcad-499f-858c-467a96f0c266 button.colab-df-convert');\n",
              "        buttonEl.style.display =\n",
              "          google.colab.kernel.accessAllowed ? 'block' : 'none';\n",
              "\n",
              "        async function convertToInteractive(key) {\n",
              "          const element = document.querySelector('#df-5775ca97-dcad-499f-858c-467a96f0c266');\n",
              "          const dataTable =\n",
              "            await google.colab.kernel.invokeFunction('convertToInteractive',\n",
              "                                                     [key], {});\n",
              "          if (!dataTable) return;\n",
              "\n",
              "          const docLinkHtml = 'Like what you see? Visit the ' +\n",
              "            '<a target=\"_blank\" href=https://colab.research.google.com/notebooks/data_table.ipynb>data table notebook</a>'\n",
              "            + ' to learn more about interactive tables.';\n",
              "          element.innerHTML = '';\n",
              "          dataTable['output_type'] = 'display_data';\n",
              "          await google.colab.output.renderOutput(dataTable, element);\n",
              "          const docLink = document.createElement('div');\n",
              "          docLink.innerHTML = docLinkHtml;\n",
              "          element.appendChild(docLink);\n",
              "        }\n",
              "      </script>\n",
              "    </div>\n",
              "  </div>\n",
              "  "
            ]
          },
          "metadata": {},
          "execution_count": 168
        }
      ]
    },
    {
      "cell_type": "code",
      "source": [
        "sns.barplot(x=df2.index,y=df2[\"City\"],palette=\"hot\")\n"
      ],
      "metadata": {
        "id": "2wvRHEDaPI0M",
        "colab": {
          "base_uri": "https://localhost:8080/",
          "height": 283
        },
        "outputId": "bbfd70e9-1fef-4039-a21b-8a76bb7051a6"
      },
      "execution_count": 169,
      "outputs": [
        {
          "output_type": "execute_result",
          "data": {
            "text/plain": [
              "<matplotlib.axes._subplots.AxesSubplot at 0x7f3ea8796a50>"
            ]
          },
          "metadata": {},
          "execution_count": 169
        },
        {
          "output_type": "display_data",
          "data": {
            "text/plain": [
              "<Figure size 432x288 with 1 Axes>"
            ],
            "image/png": "[encoded data removed]"
          },
          "metadata": {
            "needs_background": "light"
          }
        }
      ]
    },
    {
      "cell_type": "code",
      "source": [
        ""
      ],
      "metadata": {
        "id": "wnCzcCK4PIwz"
      },
      "execution_count": null,
      "outputs": []
    },
    {
      "cell_type": "code",
      "source": [
        ""
      ],
      "metadata": {
        "id": "i_fSM3xNPIsI"
      },
      "execution_count": null,
      "outputs": []
    },
    {
      "cell_type": "code",
      "source": [
        ""
      ],
      "metadata": {
        "id": "uFf5RlquiwJZ"
      },
      "execution_count": null,
      "outputs": []
    }
  ]
}